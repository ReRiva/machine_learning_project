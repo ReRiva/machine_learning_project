{
 "cells": [
  {
   "cell_type": "markdown",
   "id": "0d9f36b4",
   "metadata": {},
   "source": [
    "<h3 style=\"color: #001a79;\">Exercise 1.1</h3>\n",
    "\n",
    "<hr style=\"border-top: 1px solid #001a79;\" />\n",
    "\n",
    "\n",
    "The above gives about a 1.5% chance of randomly selecting the correct cups. Calculate the minimum number of cups of tea required to ensure the probability of randomly selecting the correct cups is less than or equal to 1%.\n",
    "\n"
   ]
  },
  {
   "cell_type": "markdown",
   "id": "45ded1d3",
   "metadata": {},
   "source": [
    "Reference: https://www.w3schools.com/python/ref_math_comb.asp"
   ]
  },
  {
   "cell_type": "markdown",
   "id": "2ad0c22e",
   "metadata": {},
   "source": [
    "If the number of ways of selecting 4 cups from 8, results in 70 combinations and has a chance of randomly selecting the correct 4 cups of approximately 1.5%, the next step will be trying to choose 4 cups from 9."
   ]
  },
  {
   "cell_type": "code",
   "execution_count": 1,
   "id": "9bad53f8",
   "metadata": {},
   "outputs": [],
   "source": [
    "# Finding the amount of the combinations possible using the math module\n",
    "import math"
   ]
  },
  {
   "cell_type": "code",
   "execution_count": 2,
   "id": "7a5ad756",
   "metadata": {},
   "outputs": [
    {
     "data": {
      "text/plain": [
       "126"
      ]
     },
     "execution_count": 2,
     "metadata": {},
     "output_type": "execute_result"
    }
   ],
   "source": [
    "math.comb(9,4)"
   ]
  },
  {
   "cell_type": "markdown",
   "id": "def005a5",
   "metadata": {},
   "source": [
    "We can see that number of ways of selecting 4 cups from 9 will result in a total of <b>126</b> combinations. Now we can check the probability of selecting the correct 4 cups."
   ]
  },
  {
   "cell_type": "code",
   "execution_count": 3,
   "id": "63bb2fee",
   "metadata": {},
   "outputs": [
    {
     "data": {
      "text/plain": [
       "0.007936507936507936"
      ]
     },
     "execution_count": 3,
     "metadata": {},
     "output_type": "execute_result"
    }
   ],
   "source": [
    "# Probability of random selecting 4 cups from 9:\n",
    "\n",
    "1.0 / math.comb(9,4)"
   ]
  },
  {
   "cell_type": "markdown",
   "id": "993b52d0",
   "metadata": {},
   "source": [
    "As seen above, the probability of randomly selecting the 4 cups from a pool of 9 cups is approximately <b>0.7%<b>, which is less than 1%"
   ]
  },
  {
   "cell_type": "code",
   "execution_count": null,
   "id": "0377589e",
   "metadata": {},
   "outputs": [],
   "source": []
  },
  {
   "cell_type": "markdown",
   "id": "04105cc3",
   "metadata": {},
   "source": [
    "<b>*Bonus:*</b> How many would be required if you were to let the taster get one cup wrong while maintaining the 1% threshold?"
   ]
  },
  {
   "cell_type": "markdown",
   "id": "3e33d167",
   "metadata": {},
   "source": [
    "Since the number of combination needs to be higher than 100, to maintain the 1% threshold. if we just reduce the amount of right cups from 4 to 3 that needs to be correct it will result in a total of 84 combinations and a approximately 1.1% chance of the right cups being chosen at random."
   ]
  },
  {
   "cell_type": "code",
   "execution_count": 4,
   "id": "b5a257cb",
   "metadata": {},
   "outputs": [
    {
     "data": {
      "text/plain": [
       "84"
      ]
     },
     "execution_count": 4,
     "metadata": {},
     "output_type": "execute_result"
    }
   ],
   "source": [
    "math.comb(9,3)"
   ]
  },
  {
   "cell_type": "code",
   "execution_count": 5,
   "id": "2ecb1d07",
   "metadata": {},
   "outputs": [
    {
     "data": {
      "text/plain": [
       "0.011904761904761904"
      ]
     },
     "execution_count": 5,
     "metadata": {},
     "output_type": "execute_result"
    }
   ],
   "source": [
    "1.0 / math.comb(9,3)"
   ]
  },
  {
   "cell_type": "markdown",
   "id": "a38247ba",
   "metadata": {},
   "source": [
    "So if a 3 cups from a 9 cups pool would result in a probability of random guessing the right cups higher than 1%, the next step would be increase the amount of cups that need to be selected. So instead of 9 we should try it with 10 cups."
   ]
  },
  {
   "cell_type": "code",
   "execution_count": 6,
   "id": "d0f09c1e",
   "metadata": {},
   "outputs": [
    {
     "data": {
      "text/plain": [
       "120"
      ]
     },
     "execution_count": 6,
     "metadata": {},
     "output_type": "execute_result"
    }
   ],
   "source": [
    "math.comb(10,3)"
   ]
  },
  {
   "cell_type": "code",
   "execution_count": 7,
   "id": "f2d8ffea",
   "metadata": {},
   "outputs": [
    {
     "data": {
      "text/plain": [
       "0.008333333333333333"
      ]
     },
     "execution_count": 7,
     "metadata": {},
     "output_type": "execute_result"
    }
   ],
   "source": [
    "1.0 / math.comb(10,3)"
   ]
  },
  {
   "cell_type": "markdown",
   "id": "90052f6e",
   "metadata": {},
   "source": [
    "As we can see above, if we increase the amount to 10 cups, it will result in a 120 combinations and a probability of random chosing the right cups of approximately 0.8%"
   ]
  },
  {
   "cell_type": "markdown",
   "id": "f2b46100",
   "metadata": {},
   "source": [
    "<h3 style=\"color: #001a79;\">Exercise 1.2</h3>\n",
    "\n",
    "\n",
    "Use <a href=\"https://docs.scipy.org/doc/scipy/reference/generated/scipy.stats.fisher_exact.html\" style=\"color: #ff791e\">scipy's version of Fisher's exact test</a> to simulate the Lady Tasting Tea problem."
   ]
  },
  {
   "cell_type": "code",
   "execution_count": 8,
   "id": "36de9959",
   "metadata": {},
   "outputs": [],
   "source": [
    "import scipy.stats as ss"
   ]
  },
  {
   "cell_type": "code",
   "execution_count": 9,
   "id": "96393e7e",
   "metadata": {},
   "outputs": [
    {
     "data": {
      "text/plain": [
       "(inf, 0.014285714285714268)"
      ]
     },
     "execution_count": 9,
     "metadata": {},
     "output_type": "execute_result"
    }
   ],
   "source": [
    "ss.fisher_exact([[4, 0], [0, 4]], alternative='greater')"
   ]
  },
  {
   "cell_type": "markdown",
   "id": "e740e3eb",
   "metadata": {},
   "source": [
    "<h3 style=\"color: #001a79;\">Exercise 1.3</h3>\n",
    "\n",
    "Take the code from the <a href=\"https://docs.scipy.org/doc/scipy/reference/generated/scipy.stats.ttest_ind.html\" style=\"color: #ff791e\">Examples section of the scipy stats documentation for independent samples t-tests</a>, add it to your own notebook and add explain how it works using MarkDown cells and code comments. Improve it in any way you think it could be improved."
   ]
  },
  {
   "cell_type": "code",
   "execution_count": 10,
   "id": "f41b67d4",
   "metadata": {},
   "outputs": [],
   "source": [
    "# Importing packges such as scipy and numpy and assingning the random generation function to the variable rng\n",
    "from scipy import stats\n",
    "import numpy as np\n",
    "rng = np.random.default_rng()"
   ]
  },
  {
   "cell_type": "markdown",
   "id": "0734fa26",
   "metadata": {},
   "source": [
    "When testing samples with identical means, the t and p values are the same.\n"
   ]
  },
  {
   "cell_type": "code",
   "execution_count": 11,
   "id": "5cf3c310",
   "metadata": {},
   "outputs": [
    {
     "data": {
      "text/plain": [
       "Ttest_indResult(statistic=0.9468717378006166, pvalue=0.34393334228185646)"
      ]
     },
     "execution_count": 11,
     "metadata": {},
     "output_type": "execute_result"
    }
   ],
   "source": [
    "# Generte random of array 500 numbers with the mean equal to 5 a standard variation of 10 \n",
    "rvs1 = stats.norm.rvs(loc=5, scale=10, size=500, random_state=rng)\n",
    "rvs2 = stats.norm.rvs(loc=5, scale=10, size=500, random_state=rng)\n",
    "\n",
    "#Performs a t test on the arrays generated above\n",
    "stats.ttest_ind(rvs1, rvs2)"
   ]
  },
  {
   "cell_type": "markdown",
   "id": "a114ca5c",
   "metadata": {},
   "source": [
    "Setting the equal_var paramenter to false does not change the results since the actual variations is the same for both populations"
   ]
  },
  {
   "cell_type": "code",
   "execution_count": 12,
   "id": "45efb1c5",
   "metadata": {},
   "outputs": [
    {
     "data": {
      "text/plain": [
       "Ttest_indResult(statistic=0.9468717378006166, pvalue=0.34393357876557207)"
      ]
     },
     "execution_count": 12,
     "metadata": {},
     "output_type": "execute_result"
    }
   ],
   "source": [
    "# Setting equal_var as False does not assume equal variance between the samples\n",
    "stats.ttest_ind(rvs1, rvs2, equal_var=False)"
   ]
  },
  {
   "cell_type": "markdown",
   "id": "a6be80c9",
   "metadata": {},
   "source": [
    "ttest_ind underestimates p for unequal variances:"
   ]
  },
  {
   "cell_type": "code",
   "execution_count": 13,
   "id": "cbadbd74",
   "metadata": {},
   "outputs": [
    {
     "data": {
      "text/plain": [
       "Ttest_indResult(statistic=-0.40460800218329795, pvalue=0.6858523750938635)"
      ]
     },
     "execution_count": 13,
     "metadata": {},
     "output_type": "execute_result"
    }
   ],
   "source": [
    "#Creating a third array of random numbers with the same mean as the others but larger variance of 20 and perfoming a t test \n",
    "rvs3 = stats.norm.rvs(loc=5, scale=20, size=500, random_state=rng)\n",
    "stats.ttest_ind(rvs1, rvs3)"
   ]
  },
  {
   "cell_type": "code",
   "execution_count": 22,
   "id": "1b31072a",
   "metadata": {},
   "outputs": [
    {
     "data": {
      "text/plain": [
       "Ttest_indResult(statistic=-0.40460800218329795, pvalue=0.685891102424002)"
      ]
     },
     "execution_count": 22,
     "metadata": {},
     "output_type": "execute_result"
    }
   ],
   "source": [
    "# Setting equal_var as False does not assume equal variance between the samples\n",
    "stats.ttest_ind(rvs1, rvs3, equal_var=False)"
   ]
  },
  {
   "cell_type": "markdown",
   "id": "f55ca69f",
   "metadata": {},
   "source": [
    "When the size of the populations is different the t and p value also change."
   ]
  },
  {
   "cell_type": "code",
   "execution_count": 15,
   "id": "0e2f8972",
   "metadata": {},
   "outputs": [
    {
     "data": {
      "text/plain": [
       "Ttest_indResult(statistic=2.7027201870593935, pvalue=0.007072827481774469)"
      ]
     },
     "execution_count": 15,
     "metadata": {},
     "output_type": "execute_result"
    }
   ],
   "source": [
    "rvs4 = stats.norm.rvs(loc=5, scale=20, size=100, random_state=rng)\n",
    "stats.ttest_ind(rvs1, rvs4)"
   ]
  },
  {
   "cell_type": "code",
   "execution_count": 16,
   "id": "d059058c",
   "metadata": {},
   "outputs": [
    {
     "data": {
      "text/plain": [
       "Ttest_indResult(statistic=1.6594488046669282, pvalue=0.09996074602930462)"
      ]
     },
     "execution_count": 16,
     "metadata": {},
     "output_type": "execute_result"
    }
   ],
   "source": [
    "stats.ttest_ind(rvs1, rvs4, equal_var=False)"
   ]
  },
  {
   "cell_type": "markdown",
   "id": "551bbd5c",
   "metadata": {},
   "source": [
    "Perfoming the test in populations with different means, variances and sizes."
   ]
  },
  {
   "cell_type": "code",
   "execution_count": 17,
   "id": "f047bb51",
   "metadata": {},
   "outputs": [
    {
     "data": {
      "text/plain": [
       "Ttest_indResult(statistic=1.413436394006248, pvalue=0.15804776927780065)"
      ]
     },
     "execution_count": 17,
     "metadata": {},
     "output_type": "execute_result"
    }
   ],
   "source": [
    "rvs5 = stats.norm.rvs(loc=8, scale=20, size=100, random_state=rng)\n",
    "stats.ttest_ind(rvs1, rvs5)"
   ]
  },
  {
   "cell_type": "code",
   "execution_count": 18,
   "id": "1ec43e43",
   "metadata": {},
   "outputs": [
    {
     "data": {
      "text/plain": [
       "Ttest_indResult(statistic=0.8302918372110254, pvalue=0.40825239491973675)"
      ]
     },
     "execution_count": 18,
     "metadata": {},
     "output_type": "execute_result"
    }
   ],
   "source": [
    "stats.ttest_ind(rvs1, rvs5, equal_var=False)"
   ]
  },
  {
   "cell_type": "markdown",
   "id": "0849646f",
   "metadata": {},
   "source": [
    "In this case P value is more accurate in this case because the test was peformed several times, using the numpy random function that was assingned to the variable rng."
   ]
  },
  {
   "cell_type": "code",
   "execution_count": 19,
   "id": "7377d7a6",
   "metadata": {},
   "outputs": [
    {
     "data": {
      "text/plain": [
       "Ttest_indResult(statistic=1.413436394006248, pvalue=0.1602)"
      ]
     },
     "execution_count": 19,
     "metadata": {},
     "output_type": "execute_result"
    }
   ],
   "source": [
    "# Added a permutation parameter to produce the test x amount of times.\n",
    "stats.ttest_ind(rvs1, rvs5, permutations=10000,\n",
    "                random_state=rng)"
   ]
  },
  {
   "cell_type": "markdown",
   "id": "31041f02",
   "metadata": {},
   "source": [
    "Take these two samples, one of which has an extreme tail."
   ]
  },
  {
   "cell_type": "code",
   "execution_count": 20,
   "id": "6ce84eaf",
   "metadata": {},
   "outputs": [],
   "source": [
    "a = (56, 128.6, 12, 123.8, 64.34, 78, 763.3)\n",
    "b = (1.1, 2.9, 4.2)"
   ]
  },
  {
   "cell_type": "markdown",
   "id": "86b02fcf",
   "metadata": {},
   "source": [
    "Using the trim parameter to \"cut\" elements from the population, in this case it was used .2. The calculation of how many elements will be trimmed is the floor value of the multiplication between the length of the array and the trim parameter. In this case for \"a\" it will be np.floor(7*0.2) which is equal to 1. And for \"b\" it will be np.floor(3*0.2) which is equal to zero. "
   ]
  },
  {
   "cell_type": "code",
   "execution_count": 24,
   "id": "bf866349",
   "metadata": {},
   "outputs": [
    {
     "data": {
      "text/plain": [
       "1.0"
      ]
     },
     "execution_count": 24,
     "metadata": {},
     "output_type": "execute_result"
    }
   ],
   "source": [
    "# trimmed values for a\n",
    "trim_a = np.floor(len(a)*.2)\n",
    "trim_a"
   ]
  },
  {
   "cell_type": "code",
   "execution_count": 25,
   "id": "07b0e7f3",
   "metadata": {},
   "outputs": [
    {
     "data": {
      "text/plain": [
       "0.0"
      ]
     },
     "execution_count": 25,
     "metadata": {},
     "output_type": "execute_result"
    }
   ],
   "source": [
    "# trimmed values for b\n",
    "trim_b = np.floor(len(b)*.2)\n",
    "trim_b"
   ]
  },
  {
   "cell_type": "code",
   "execution_count": 21,
   "id": "ade5cd45",
   "metadata": {},
   "outputs": [
    {
     "data": {
      "text/plain": [
       "Ttest_indResult(statistic=3.4463884028073513, pvalue=0.01369338726499547)"
      ]
     },
     "execution_count": 21,
     "metadata": {},
     "output_type": "execute_result"
    }
   ],
   "source": [
    "stats.ttest_ind(a, b, trim=.2)"
   ]
  }
 ],
 "metadata": {
  "kernelspec": {
   "display_name": "Python 3 (ipykernel)",
   "language": "python",
   "name": "python3"
  },
  "language_info": {
   "codemirror_mode": {
    "name": "ipython",
    "version": 3
   },
   "file_extension": ".py",
   "mimetype": "text/x-python",
   "name": "python",
   "nbconvert_exporter": "python",
   "pygments_lexer": "ipython3",
   "version": "3.9.7"
  }
 },
 "nbformat": 4,
 "nbformat_minor": 5
}
