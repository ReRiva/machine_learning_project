{
 "cells": [
  {
   "cell_type": "code",
   "execution_count": null,
   "id": "43a0eb70",
   "metadata": {},
   "outputs": [],
   "source": []
  },
  {
   "cell_type": "markdown",
   "id": "8a428e99",
   "metadata": {},
   "source": [
    "## Timeseries anomaly detection using an Autoencoder"
   ]
  },
  {
   "cell_type": "markdown",
   "id": "ba7ee0e1",
   "metadata": {},
   "source": [
    "Recreating a script that demonstrates how you can use a reconstruction convolutional autoencoder model to detect anomalies in timeseries data.\n",
    "\n"
   ]
  },
  {
   "cell_type": "markdown",
   "id": "9b179cad",
   "metadata": {},
   "source": [
    "<h2>Timeseries Data</h2>\n",
    "\n",
    "Timeseries is a sequence of datapoints listed in a time order. It is mostly taken in successively even spaced points in our data case each data point information was recorded every 5 minutes which over 14 days which totalled 288 times per day and 4032 times on total.\n",
    "(https://en.wikipedia.org/wiki/Time_series)\n",
    "\n",
    "<h2>Autoencoder</h2>\n",
    "\n",
    "An Autoencoders are used to reduce the noise on the data and it is done by compressing the input, encoding it and reducing the size and complexity of the data, after that the auto encoder reconstruct the data using a similar layout mimicking very closely the original data.\n",
    "\n",
    "Autoencoders and their ability to deconstruct and reconstruct data has its use on eliminating complexity, unsupervised leaning and in our case Anomaly detection.\n",
    "By deconstructing and reconstructing data the autoencoder is used to the normal structure of the data so when presented with some unusual the reconstruction error will be more noticeable and that is a good indicator of anomalies on the data.\n",
    "\n",
    "https://rapidminer.com/blog/autoencoders/\n"
   ]
  },
  {
   "cell_type": "code",
   "execution_count": null,
   "id": "416eb02d",
   "metadata": {},
   "outputs": [],
   "source": []
  },
  {
   "cell_type": "code",
   "execution_count": 4,
   "id": "bffd0b76",
   "metadata": {},
   "outputs": [],
   "source": [
    "# Importing packages \n",
    "import numpy as np\n",
    "import pandas as pd\n",
    "from tensorflow import keras\n",
    "from tensorflow.keras import layers\n",
    "from matplotlib import pyplot as plt"
   ]
  },
  {
   "cell_type": "code",
   "execution_count": null,
   "id": "4e784054",
   "metadata": {},
   "outputs": [],
   "source": []
  }
 ],
 "metadata": {
  "kernelspec": {
   "display_name": "Python 3 (ipykernel)",
   "language": "python",
   "name": "python3"
  },
  "language_info": {
   "codemirror_mode": {
    "name": "ipython",
    "version": 3
   },
   "file_extension": ".py",
   "mimetype": "text/x-python",
   "name": "python",
   "nbconvert_exporter": "python",
   "pygments_lexer": "ipython3",
   "version": "3.9.13"
  }
 },
 "nbformat": 4,
 "nbformat_minor": 5
}
